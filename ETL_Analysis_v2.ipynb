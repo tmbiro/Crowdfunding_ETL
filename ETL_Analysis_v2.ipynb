{
 "cells": [
  {
   "cell_type": "code",
   "execution_count": 3,
   "metadata": {},
   "outputs": [],
   "source": [
    "# importing dependencies\n",
    "import pandas as pd\n",
    "import numpy as np\n",
    "from scipy import stats\n",
    "import matplotlib.pyplot as plt"
   ]
  },
  {
   "cell_type": "code",
   "execution_count": 2,
   "metadata": {},
   "outputs": [
    {
     "data": {
      "text/html": [
       "<div>\n",
       "<style scoped>\n",
       "    .dataframe tbody tr th:only-of-type {\n",
       "        vertical-align: middle;\n",
       "    }\n",
       "\n",
       "    .dataframe tbody tr th {\n",
       "        vertical-align: top;\n",
       "    }\n",
       "\n",
       "    .dataframe thead th {\n",
       "        text-align: right;\n",
       "    }\n",
       "</style>\n",
       "<table border=\"1\" class=\"dataframe\">\n",
       "  <thead>\n",
       "    <tr style=\"text-align: right;\">\n",
       "      <th></th>\n",
       "      <th>Unnamed: 0</th>\n",
       "      <th>Total Evictions</th>\n",
       "      <th>ZIPCODE</th>\n",
       "      <th>COUNT PARTICIPANTS</th>\n",
       "      <th>PERCENT FEMALE</th>\n",
       "      <th>PERCENT MALE</th>\n",
       "      <th>PERCENT PACIFIC ISLANDER</th>\n",
       "      <th>PERCENT HISPANIC LATINO</th>\n",
       "      <th>PERCENT AMERICAN INDIAN</th>\n",
       "      <th>PERCENT ASIAN NON HISPANIC</th>\n",
       "      <th>PERCENT WHITE NON HISPANIC</th>\n",
       "      <th>PERCENT BLACK NON HISPANIC</th>\n",
       "      <th>PERCENT OTHER ETHNICITY</th>\n",
       "      <th>PERCENT ETHNICITY UNKNOWN</th>\n",
       "      <th>PERCENT PERMANENT RESIDENT ALIEN</th>\n",
       "      <th>PERCENT US CITIZEN</th>\n",
       "      <th>PERCENT OTHER CITIZEN STATUS</th>\n",
       "      <th>PERCENT RECEIVES PUBLIC ASSISTANCE</th>\n",
       "      <th>PERCENT NRECEIVES PUBLIC ASSISTANCE</th>\n",
       "      <th>PERCENT MINORITY</th>\n",
       "    </tr>\n",
       "  </thead>\n",
       "  <tbody>\n",
       "    <tr>\n",
       "      <th>0</th>\n",
       "      <td>26</td>\n",
       "      <td>421</td>\n",
       "      <td>11230</td>\n",
       "      <td>248</td>\n",
       "      <td>0.78</td>\n",
       "      <td>0.22</td>\n",
       "      <td>0.0</td>\n",
       "      <td>0.00</td>\n",
       "      <td>0.00</td>\n",
       "      <td>0.03</td>\n",
       "      <td>0.87</td>\n",
       "      <td>0.01</td>\n",
       "      <td>0.07</td>\n",
       "      <td>0.02</td>\n",
       "      <td>0.01</td>\n",
       "      <td>0.99</td>\n",
       "      <td>0.00</td>\n",
       "      <td>0.17</td>\n",
       "      <td>0.83</td>\n",
       "      <td>0.11</td>\n",
       "    </tr>\n",
       "    <tr>\n",
       "      <th>1</th>\n",
       "      <td>21</td>\n",
       "      <td>209</td>\n",
       "      <td>11219</td>\n",
       "      <td>214</td>\n",
       "      <td>0.85</td>\n",
       "      <td>0.15</td>\n",
       "      <td>0.0</td>\n",
       "      <td>0.00</td>\n",
       "      <td>0.00</td>\n",
       "      <td>0.00</td>\n",
       "      <td>0.96</td>\n",
       "      <td>0.00</td>\n",
       "      <td>0.03</td>\n",
       "      <td>0.00</td>\n",
       "      <td>0.01</td>\n",
       "      <td>0.99</td>\n",
       "      <td>0.00</td>\n",
       "      <td>0.52</td>\n",
       "      <td>0.48</td>\n",
       "      <td>0.03</td>\n",
       "    </tr>\n",
       "    <tr>\n",
       "      <th>2</th>\n",
       "      <td>20</td>\n",
       "      <td>238</td>\n",
       "      <td>11218</td>\n",
       "      <td>111</td>\n",
       "      <td>0.87</td>\n",
       "      <td>0.13</td>\n",
       "      <td>0.0</td>\n",
       "      <td>0.01</td>\n",
       "      <td>0.00</td>\n",
       "      <td>0.03</td>\n",
       "      <td>0.86</td>\n",
       "      <td>0.05</td>\n",
       "      <td>0.05</td>\n",
       "      <td>0.00</td>\n",
       "      <td>0.07</td>\n",
       "      <td>0.92</td>\n",
       "      <td>0.01</td>\n",
       "      <td>0.46</td>\n",
       "      <td>0.54</td>\n",
       "      <td>0.14</td>\n",
       "    </tr>\n",
       "    <tr>\n",
       "      <th>3</th>\n",
       "      <td>22</td>\n",
       "      <td>318</td>\n",
       "      <td>11223</td>\n",
       "      <td>109</td>\n",
       "      <td>0.49</td>\n",
       "      <td>0.51</td>\n",
       "      <td>0.0</td>\n",
       "      <td>0.01</td>\n",
       "      <td>0.00</td>\n",
       "      <td>0.06</td>\n",
       "      <td>0.87</td>\n",
       "      <td>0.01</td>\n",
       "      <td>0.05</td>\n",
       "      <td>0.00</td>\n",
       "      <td>0.06</td>\n",
       "      <td>0.94</td>\n",
       "      <td>0.01</td>\n",
       "      <td>0.18</td>\n",
       "      <td>0.82</td>\n",
       "      <td>0.13</td>\n",
       "    </tr>\n",
       "    <tr>\n",
       "      <th>4</th>\n",
       "      <td>12</td>\n",
       "      <td>1896</td>\n",
       "      <td>10467</td>\n",
       "      <td>106</td>\n",
       "      <td>0.61</td>\n",
       "      <td>0.39</td>\n",
       "      <td>0.0</td>\n",
       "      <td>0.48</td>\n",
       "      <td>0.01</td>\n",
       "      <td>0.04</td>\n",
       "      <td>0.01</td>\n",
       "      <td>0.44</td>\n",
       "      <td>0.02</td>\n",
       "      <td>0.00</td>\n",
       "      <td>0.09</td>\n",
       "      <td>0.89</td>\n",
       "      <td>0.02</td>\n",
       "      <td>0.31</td>\n",
       "      <td>0.69</td>\n",
       "      <td>0.99</td>\n",
       "    </tr>\n",
       "  </tbody>\n",
       "</table>\n",
       "</div>"
      ],
      "text/plain": [
       "   Unnamed: 0  Total Evictions  ZIPCODE  COUNT PARTICIPANTS  PERCENT FEMALE  \\\n",
       "0          26              421    11230                 248            0.78   \n",
       "1          21              209    11219                 214            0.85   \n",
       "2          20              238    11218                 111            0.87   \n",
       "3          22              318    11223                 109            0.49   \n",
       "4          12             1896    10467                 106            0.61   \n",
       "\n",
       "   PERCENT MALE  PERCENT PACIFIC ISLANDER  PERCENT HISPANIC LATINO  \\\n",
       "0          0.22                       0.0                     0.00   \n",
       "1          0.15                       0.0                     0.00   \n",
       "2          0.13                       0.0                     0.01   \n",
       "3          0.51                       0.0                     0.01   \n",
       "4          0.39                       0.0                     0.48   \n",
       "\n",
       "   PERCENT AMERICAN INDIAN  PERCENT ASIAN NON HISPANIC  \\\n",
       "0                     0.00                        0.03   \n",
       "1                     0.00                        0.00   \n",
       "2                     0.00                        0.03   \n",
       "3                     0.00                        0.06   \n",
       "4                     0.01                        0.04   \n",
       "\n",
       "   PERCENT WHITE NON HISPANIC  PERCENT BLACK NON HISPANIC  \\\n",
       "0                        0.87                        0.01   \n",
       "1                        0.96                        0.00   \n",
       "2                        0.86                        0.05   \n",
       "3                        0.87                        0.01   \n",
       "4                        0.01                        0.44   \n",
       "\n",
       "   PERCENT OTHER ETHNICITY  PERCENT ETHNICITY UNKNOWN  \\\n",
       "0                     0.07                       0.02   \n",
       "1                     0.03                       0.00   \n",
       "2                     0.05                       0.00   \n",
       "3                     0.05                       0.00   \n",
       "4                     0.02                       0.00   \n",
       "\n",
       "   PERCENT PERMANENT RESIDENT ALIEN  PERCENT US CITIZEN  \\\n",
       "0                              0.01                0.99   \n",
       "1                              0.01                0.99   \n",
       "2                              0.07                0.92   \n",
       "3                              0.06                0.94   \n",
       "4                              0.09                0.89   \n",
       "\n",
       "   PERCENT OTHER CITIZEN STATUS  PERCENT RECEIVES PUBLIC ASSISTANCE  \\\n",
       "0                          0.00                                0.17   \n",
       "1                          0.00                                0.52   \n",
       "2                          0.01                                0.46   \n",
       "3                          0.01                                0.18   \n",
       "4                          0.02                                0.31   \n",
       "\n",
       "   PERCENT NRECEIVES PUBLIC ASSISTANCE  PERCENT MINORITY  \n",
       "0                                 0.83              0.11  \n",
       "1                                 0.48              0.03  \n",
       "2                                 0.54              0.14  \n",
       "3                                 0.82              0.13  \n",
       "4                                 0.69              0.99  "
      ]
     },
     "execution_count": 2,
     "metadata": {},
     "output_type": "execute_result"
    }
   ],
   "source": [
    "# importing data set into a data frame\n",
    "combined_df = pd.read_csv('Resources/NYC_Evictions_Demographics.csv')\n",
    "combined_df.head()"
   ]
  },
  {
   "cell_type": "code",
   "execution_count": 10,
   "metadata": {},
   "outputs": [
    {
     "data": {
      "text/plain": [
       "<AxesSubplot:xlabel='PERCENT FEMALE', ylabel='Total Evictions'>"
      ]
     },
     "execution_count": 10,
     "metadata": {},
     "output_type": "execute_result"
    },
    {
     "data": {
      "image/png": "[encoded data removed]",
      "text/plain": [
       "<Figure size 432x288 with 1 Axes>"
      ]
     },
     "metadata": {
      "needs_background": "light"
     },
     "output_type": "display_data"
    }
   ],
   "source": [
    "# Total Evictions vs. PERCENT FEMALE\n",
    "combined_df.plot(kind = 'scatter', x = 'PERCENT FEMALE', y = 'Total Evictions')"
   ]
  },
  {
   "cell_type": "code",
   "execution_count": 11,
   "metadata": {},
   "outputs": [
    {
     "data": {
      "text/plain": [
       "<AxesSubplot:xlabel='PERCENT MALE', ylabel='Total Evictions'>"
      ]
     },
     "execution_count": 11,
     "metadata": {},
     "output_type": "execute_result"
    },
    {
     "data": {
      "image/png": "[encoded data removed]",
      "text/plain": [
       "<Figure size 432x288 with 1 Axes>"
      ]
     },
     "metadata": {
      "needs_background": "light"
     },
     "output_type": "display_data"
    }
   ],
   "source": [
    "# Total Evictions vs. PERCENT MALE\n",
    "combined_df.plot(kind = 'scatter', x = 'PERCENT MALE', y = 'Total Evictions')"
   ]
  },
  {
   "cell_type": "code",
   "execution_count": 7,
   "metadata": {},
   "outputs": [
    {
     "data": {
      "text/plain": [
       "<AxesSubplot:xlabel='PERCENT WHITE NON HISPANIC', ylabel='Total Evictions'>"
      ]
     },
     "execution_count": 7,
     "metadata": {},
     "output_type": "execute_result"
    },
    {
     "data": {
      "image/png": "[encoded data removed]",
      "text/plain": [
       "<Figure size 432x288 with 1 Axes>"
      ]
     },
     "metadata": {
      "needs_background": "light"
     },
     "output_type": "display_data"
    }
   ],
   "source": [
    "# Total Evictions vs. PERCENT WHITE NON HISPANIC\n",
    "combined_df.plot(kind = 'scatter', x = 'PERCENT WHITE NON HISPANIC', y = 'Total Evictions')"
   ]
  },
  {
   "cell_type": "code",
   "execution_count": 12,
   "metadata": {},
   "outputs": [
    {
     "data": {
      "text/plain": [
       "<AxesSubplot:xlabel='PERCENT MINORITY', ylabel='Total Evictions'>"
      ]
     },
     "execution_count": 12,
     "metadata": {},
     "output_type": "execute_result"
    },
    {
     "data": {
      "image/png": "[encoded data removed]",
      "text/plain": [
       "<Figure size 432x288 with 1 Axes>"
      ]
     },
     "metadata": {
      "needs_background": "light"
     },
     "output_type": "display_data"
    }
   ],
   "source": [
    "# Total Evictions vs PERCENT MINORITY\n",
    "combined_df.plot(kind = 'scatter', x = 'PERCENT MINORITY', y = 'Total Evictions')"
   ]
  },
  {
   "cell_type": "code",
   "execution_count": 9,
   "metadata": {},
   "outputs": [
    {
     "data": {
      "text/plain": [
       "<AxesSubplot:xlabel='PERCENT NRECEIVES PUBLIC ASSISTANCE', ylabel='Total Evictions'>"
      ]
     },
     "execution_count": 9,
     "metadata": {},
     "output_type": "execute_result"
    },
    {
     "data": {
      "image/png": "[encoded data removed]",
      "text/plain": [
       "<Figure size 432x288 with 1 Axes>"
      ]
     },
     "metadata": {
      "needs_background": "light"
     },
     "output_type": "display_data"
    }
   ],
   "source": [
    "# Total Evictions vs. PECENT RECIEVES PUBLIC ASSISTANCE\n",
    "combined_df.plot(kind = 'scatter', x = 'PERCENT RECEIVES PUBLIC ASSISTANCE', y = 'Total Evictions')"
   ]
  },
  {
   "cell_type": "code",
   "execution_count": 14,
   "metadata": {},
   "outputs": [
    {
     "data": {
      "text/plain": [
       "<AxesSubplot:xlabel='PERCENT NRECEIVES PUBLIC ASSISTANCE', ylabel='Total Evictions'>"
      ]
     },
     "execution_count": 14,
     "metadata": {},
     "output_type": "execute_result"
    },
    {
     "data": {
      "image/png": "[encoded data removed]",
      "text/plain": [
       "<Figure size 432x288 with 1 Axes>"
      ]
     },
     "metadata": {
      "needs_background": "light"
     },
     "output_type": "display_data"
    }
   ],
   "source": [
    "# Total Evictions vs. PERCENT NRECIEVES PUBLIC ASSISTANCE\n",
    "combined_df.plot(kind = 'scatter', x = 'PERCENT NRECEIVES PUBLIC ASSISTANCE', y = 'Total Evictions')"
   ]
  }
 ],
 "metadata": {
  "kernelspec": {
   "display_name": "base",
   "language": "python",
   "name": "python3"
  },
  "language_info": {
   "codemirror_mode": {
    "name": "ipython",
    "version": 3
   },
   "file_extension": ".py",
   "mimetype": "text/x-python",
   "name": "python",
   "nbconvert_exporter": "python",
   "pygments_lexer": "ipython3",
   "version": "3.8.8"
  },
  "orig_nbformat": 4
 },
 "nbformat": 4,
 "nbformat_minor": 2
}
