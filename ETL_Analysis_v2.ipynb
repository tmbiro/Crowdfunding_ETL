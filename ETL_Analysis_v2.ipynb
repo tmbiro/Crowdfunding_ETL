{
 "cells": [
  {
   "cell_type": "code",
   "execution_count": 1,
   "metadata": {},
   "outputs": [],
   "source": [
    "# importing dependencies\n",
    "import pandas as pd\n",
    "import numpy as np\n",
    "from scipy import stats\n",
    "from sqlalchemy import create_engine\n",
    "import matplotlib.pyplot as plt\n",
    "import scipy.stats as st"
   ]
  },
  {
   "cell_type": "code",
   "execution_count": 2,
   "metadata": {},
   "outputs": [],
   "source": [
    "#connect local database\n",
    "\n",
    "connection_string = \"./Resources/Evictions.sqlite\"\n",
    "engine = create_engine(f\"sqlite:///{connection_string}\")"
   ]
  },
  {
   "cell_type": "code",
   "execution_count": 3,
   "metadata": {},
   "outputs": [
    {
     "data": {
      "text/html": [
       "<div>\n",
       "<style scoped>\n",
       "    .dataframe tbody tr th:only-of-type {\n",
       "        vertical-align: middle;\n",
       "    }\n",
       "\n",
       "    .dataframe tbody tr th {\n",
       "        vertical-align: top;\n",
       "    }\n",
       "\n",
       "    .dataframe thead th {\n",
       "        text-align: right;\n",
       "    }\n",
       "</style>\n",
       "<table border=\"1\" class=\"dataframe\">\n",
       "  <thead>\n",
       "    <tr style=\"text-align: right;\">\n",
       "      <th></th>\n",
       "      <th>Total Evictions</th>\n",
       "      <th>ZIPCODE</th>\n",
       "      <th>COUNT PARTICIPANTS</th>\n",
       "      <th>PERCENT FEMALE</th>\n",
       "      <th>PERCENT MALE</th>\n",
       "      <th>PERCENT PACIFIC ISLANDER</th>\n",
       "      <th>PERCENT HISPANIC LATINO</th>\n",
       "      <th>PERCENT AMERICAN INDIAN</th>\n",
       "      <th>PERCENT ASIAN NON HISPANIC</th>\n",
       "      <th>PERCENT WHITE NON HISPANIC</th>\n",
       "      <th>PERCENT BLACK NON HISPANIC</th>\n",
       "      <th>PERCENT OTHER ETHNICITY</th>\n",
       "      <th>PERCENT ETHNICITY UNKNOWN</th>\n",
       "      <th>PERCENT PERMANENT RESIDENT ALIEN</th>\n",
       "      <th>PERCENT US CITIZEN</th>\n",
       "      <th>PERCENT OTHER CITIZEN STATUS</th>\n",
       "      <th>PERCENT RECEIVES PUBLIC ASSISTANCE</th>\n",
       "      <th>PERCENT NRECEIVES PUBLIC ASSISTANCE</th>\n",
       "      <th>PERCENT MINORITY</th>\n",
       "    </tr>\n",
       "  </thead>\n",
       "  <tbody>\n",
       "    <tr>\n",
       "      <th>0</th>\n",
       "      <td>421</td>\n",
       "      <td>11230</td>\n",
       "      <td>248</td>\n",
       "      <td>0.78</td>\n",
       "      <td>0.22</td>\n",
       "      <td>0.0</td>\n",
       "      <td>0.00</td>\n",
       "      <td>0.00</td>\n",
       "      <td>0.03</td>\n",
       "      <td>0.87</td>\n",
       "      <td>0.01</td>\n",
       "      <td>0.07</td>\n",
       "      <td>0.02</td>\n",
       "      <td>0.01</td>\n",
       "      <td>0.99</td>\n",
       "      <td>0.00</td>\n",
       "      <td>0.17</td>\n",
       "      <td>0.83</td>\n",
       "      <td>0.11</td>\n",
       "    </tr>\n",
       "    <tr>\n",
       "      <th>1</th>\n",
       "      <td>209</td>\n",
       "      <td>11219</td>\n",
       "      <td>214</td>\n",
       "      <td>0.85</td>\n",
       "      <td>0.15</td>\n",
       "      <td>0.0</td>\n",
       "      <td>0.00</td>\n",
       "      <td>0.00</td>\n",
       "      <td>0.00</td>\n",
       "      <td>0.96</td>\n",
       "      <td>0.00</td>\n",
       "      <td>0.03</td>\n",
       "      <td>0.00</td>\n",
       "      <td>0.01</td>\n",
       "      <td>0.99</td>\n",
       "      <td>0.00</td>\n",
       "      <td>0.52</td>\n",
       "      <td>0.48</td>\n",
       "      <td>0.03</td>\n",
       "    </tr>\n",
       "    <tr>\n",
       "      <th>2</th>\n",
       "      <td>238</td>\n",
       "      <td>11218</td>\n",
       "      <td>111</td>\n",
       "      <td>0.87</td>\n",
       "      <td>0.13</td>\n",
       "      <td>0.0</td>\n",
       "      <td>0.01</td>\n",
       "      <td>0.00</td>\n",
       "      <td>0.03</td>\n",
       "      <td>0.86</td>\n",
       "      <td>0.05</td>\n",
       "      <td>0.05</td>\n",
       "      <td>0.00</td>\n",
       "      <td>0.07</td>\n",
       "      <td>0.92</td>\n",
       "      <td>0.01</td>\n",
       "      <td>0.46</td>\n",
       "      <td>0.54</td>\n",
       "      <td>0.14</td>\n",
       "    </tr>\n",
       "    <tr>\n",
       "      <th>3</th>\n",
       "      <td>318</td>\n",
       "      <td>11223</td>\n",
       "      <td>109</td>\n",
       "      <td>0.49</td>\n",
       "      <td>0.51</td>\n",
       "      <td>0.0</td>\n",
       "      <td>0.01</td>\n",
       "      <td>0.00</td>\n",
       "      <td>0.06</td>\n",
       "      <td>0.87</td>\n",
       "      <td>0.01</td>\n",
       "      <td>0.05</td>\n",
       "      <td>0.00</td>\n",
       "      <td>0.06</td>\n",
       "      <td>0.94</td>\n",
       "      <td>0.01</td>\n",
       "      <td>0.18</td>\n",
       "      <td>0.82</td>\n",
       "      <td>0.13</td>\n",
       "    </tr>\n",
       "    <tr>\n",
       "      <th>4</th>\n",
       "      <td>1896</td>\n",
       "      <td>10467</td>\n",
       "      <td>106</td>\n",
       "      <td>0.61</td>\n",
       "      <td>0.39</td>\n",
       "      <td>0.0</td>\n",
       "      <td>0.48</td>\n",
       "      <td>0.01</td>\n",
       "      <td>0.04</td>\n",
       "      <td>0.01</td>\n",
       "      <td>0.44</td>\n",
       "      <td>0.02</td>\n",
       "      <td>0.00</td>\n",
       "      <td>0.09</td>\n",
       "      <td>0.89</td>\n",
       "      <td>0.02</td>\n",
       "      <td>0.31</td>\n",
       "      <td>0.69</td>\n",
       "      <td>0.99</td>\n",
       "    </tr>\n",
       "  </tbody>\n",
       "</table>\n",
       "</div>"
      ],
      "text/plain": [
       "   Total Evictions  ZIPCODE  COUNT PARTICIPANTS  PERCENT FEMALE  PERCENT MALE  \\\n",
       "0              421    11230                 248            0.78          0.22   \n",
       "1              209    11219                 214            0.85          0.15   \n",
       "2              238    11218                 111            0.87          0.13   \n",
       "3              318    11223                 109            0.49          0.51   \n",
       "4             1896    10467                 106            0.61          0.39   \n",
       "\n",
       "   PERCENT PACIFIC ISLANDER  PERCENT HISPANIC LATINO  PERCENT AMERICAN INDIAN  \\\n",
       "0                       0.0                     0.00                     0.00   \n",
       "1                       0.0                     0.00                     0.00   \n",
       "2                       0.0                     0.01                     0.00   \n",
       "3                       0.0                     0.01                     0.00   \n",
       "4                       0.0                     0.48                     0.01   \n",
       "\n",
       "   PERCENT ASIAN NON HISPANIC  PERCENT WHITE NON HISPANIC  \\\n",
       "0                        0.03                        0.87   \n",
       "1                        0.00                        0.96   \n",
       "2                        0.03                        0.86   \n",
       "3                        0.06                        0.87   \n",
       "4                        0.04                        0.01   \n",
       "\n",
       "   PERCENT BLACK NON HISPANIC  PERCENT OTHER ETHNICITY  \\\n",
       "0                        0.01                     0.07   \n",
       "1                        0.00                     0.03   \n",
       "2                        0.05                     0.05   \n",
       "3                        0.01                     0.05   \n",
       "4                        0.44                     0.02   \n",
       "\n",
       "   PERCENT ETHNICITY UNKNOWN  PERCENT PERMANENT RESIDENT ALIEN  \\\n",
       "0                       0.02                              0.01   \n",
       "1                       0.00                              0.01   \n",
       "2                       0.00                              0.07   \n",
       "3                       0.00                              0.06   \n",
       "4                       0.00                              0.09   \n",
       "\n",
       "   PERCENT US CITIZEN  PERCENT OTHER CITIZEN STATUS  \\\n",
       "0                0.99                          0.00   \n",
       "1                0.99                          0.00   \n",
       "2                0.92                          0.01   \n",
       "3                0.94                          0.01   \n",
       "4                0.89                          0.02   \n",
       "\n",
       "   PERCENT RECEIVES PUBLIC ASSISTANCE  PERCENT NRECEIVES PUBLIC ASSISTANCE  \\\n",
       "0                                0.17                                 0.83   \n",
       "1                                0.52                                 0.48   \n",
       "2                                0.46                                 0.54   \n",
       "3                                0.18                                 0.82   \n",
       "4                                0.31                                 0.69   \n",
       "\n",
       "   PERCENT MINORITY  \n",
       "0              0.11  \n",
       "1              0.03  \n",
       "2              0.14  \n",
       "3              0.13  \n",
       "4              0.99  "
      ]
     },
     "execution_count": 3,
     "metadata": {},
     "output_type": "execute_result"
    }
   ],
   "source": [
    "combined_df = pd.read_sql_query('SELECT * FROM \"EvictionDemographics\"', con=engine)\n",
    "combined_df.head()"
   ]
  },
  {
   "cell_type": "code",
   "execution_count": 4,
   "metadata": {},
   "outputs": [
    {
     "name": "stdout",
     "output_type": "stream",
     "text": [
      "The r-value is : -0.19048661630513092\n",
      "The p-value is : 0.3133220932064391\n"
     ]
    },
    {
     "data": {
      "image/png": "[encoded data removed]",
      "text/plain": [
       "<Figure size 432x288 with 1 Axes>"
      ]
     },
     "metadata": {
      "needs_background": "light"
     },
     "output_type": "display_data"
    }
   ],
   "source": [
    "# Total Evictions vs. PERCENT FEMALE\n",
    "\n",
    "def linear_regression(x,y):\n",
    "    print(f\"The r-value is : {(st.pearsonr(x, y)[0])}\")\n",
    "    print(f\"The p-value is : {(st.pearsonr(x, y)[1])}\")\n",
    "    (slope, intercept, rvalue, pvalue, stderr) = st.linregress(x, y)\n",
    "    regress_values = x * slope + intercept\n",
    "    line_eq = \"y = \" + str(round(slope,2)) + \"x + \" + str(round(intercept,2))\n",
    "    plt.scatter(x, y)\n",
    "    plt.plot(x,regress_values,\"r-\")\n",
    "    return line_eq\n",
    "\n",
    "def annotate(line_eq, a, b):\n",
    "    plt.annotate(line_eq,(a,b),fontsize=15,color=\"red\")\n",
    " \n",
    "fig1, ax1 = plt.subplots()\n",
    "\n",
    "equation = linear_regression(combined_df['PERCENT FEMALE'], combined_df['Total Evictions'])\n",
    "annotate(equation, 0, -3)\n",
    " \n",
    "plt.xlabel('PERCENT FEMALE')\n",
    "plt.ylabel('Total Evictions')\n",
    "plt.title(\"Total Evictions vs. PERCENT FEMALE\")\n",
    "\n",
    "plt.show()"
   ]
  },
  {
   "cell_type": "code",
   "execution_count": 5,
   "metadata": {},
   "outputs": [
    {
     "name": "stdout",
     "output_type": "stream",
     "text": [
      "The r-value is : 0.19048661630513086\n",
      "The p-value is : 0.3133220932064391\n"
     ]
    },
    {
     "data": {
      "image/png": "[encoded data removed]",
      "text/plain": [
       "<Figure size 432x288 with 1 Axes>"
      ]
     },
     "metadata": {
      "needs_background": "light"
     },
     "output_type": "display_data"
    }
   ],
   "source": [
    "# Total Evictions vs. PERCENT MALE\n",
    "\n",
    "def linear_regression(x,y):\n",
    "    print(f\"The r-value is : {(st.pearsonr(x, y)[0])}\")\n",
    "    print(f\"The p-value is : {(st.pearsonr(x, y)[1])}\")\n",
    "    (slope, intercept, rvalue, pvalue, stderr) = st.linregress(x, y)\n",
    "    regress_values = x * slope + intercept\n",
    "    line_eq = \"y = \" + str(round(slope,2)) + \"x + \" + str(round(intercept,2))\n",
    "    plt.scatter(x, y)\n",
    "    plt.plot(x,regress_values,\"r-\")\n",
    "    return line_eq\n",
    "\n",
    "def annotate(line_eq, a, b):\n",
    "    plt.annotate(line_eq,(a,b),fontsize=15,color=\"red\")\n",
    "\n",
    "fig1, ax1 = plt.subplots()\n",
    "\n",
    "equation = linear_regression(combined_df['PERCENT MALE'], combined_df['Total Evictions'])\n",
    "annotate(equation, 0, -3)\n",
    " \n",
    "plt.xlabel('PERCENT MALE')\n",
    "plt.ylabel('Total Evictions')\n",
    "plt.title(\"Total Evictions vs. PERCENT MALE\")\n",
    "\n",
    "plt.show()"
   ]
  },
  {
   "cell_type": "code",
   "execution_count": 6,
   "metadata": {},
   "outputs": [
    {
     "name": "stdout",
     "output_type": "stream",
     "text": [
      "The r-value is : -0.30607054929607647\n",
      "The p-value is : 0.09998374947834762\n"
     ]
    },
    {
     "data": {
      "image/png": "[encoded data removed]",
      "text/plain": [
       "<Figure size 432x288 with 1 Axes>"
      ]
     },
     "metadata": {
      "needs_background": "light"
     },
     "output_type": "display_data"
    }
   ],
   "source": [
    "# Total Evictions vs. PERCENT WHITE NON HISPANIC\n",
    "\n",
    "def linear_regression(x,y):\n",
    "    print(f\"The r-value is : {(st.pearsonr(x, y)[0])}\")\n",
    "    print(f\"The p-value is : {(st.pearsonr(x, y)[1])}\")\n",
    "    (slope, intercept, rvalue, pvalue, stderr) = st.linregress(x, y)\n",
    "    regress_values = x * slope + intercept\n",
    "    line_eq = \"y = \" + str(round(slope,2)) + \"x + \" + str(round(intercept,2))\n",
    "    plt.scatter(x, y)\n",
    "    plt.plot(x,regress_values,\"r-\")\n",
    "    return line_eq\n",
    "\n",
    "def annotate(line_eq, a, b):\n",
    "    plt.annotate(line_eq,(a,b),fontsize=15,color=\"red\")\n",
    "\n",
    "fig1, ax1 = plt.subplots()\n",
    "\n",
    "equation = linear_regression(combined_df['PERCENT WHITE NON HISPANIC'], combined_df['Total Evictions'])\n",
    "annotate(equation, 0, -3)\n",
    " \n",
    "plt.xlabel('PERCENT WHITE NON HISPANIC')\n",
    "plt.ylabel('Total Evictions')\n",
    "plt.title(\"Total Evictions vs. PERCENT WHITE NON HISPANIC\")\n",
    "\n",
    "plt.show()"
   ]
  },
  {
   "cell_type": "code",
   "execution_count": 7,
   "metadata": {},
   "outputs": [
    {
     "name": "stdout",
     "output_type": "stream",
     "text": [
      "The r-value is : 0.30210736764298535\n",
      "The p-value is : 0.10468150383627021\n"
     ]
    },
    {
     "data": {
      "image/png": "[encoded data removed]",
      "text/plain": [
       "<Figure size 432x288 with 1 Axes>"
      ]
     },
     "metadata": {
      "needs_background": "light"
     },
     "output_type": "display_data"
    }
   ],
   "source": [
    "# Total Evictions vs PERCENT MINORITY\n",
    "\n",
    "def linear_regression(x,y):\n",
    "    print(f\"The r-value is : {(st.pearsonr(x, y)[0])}\")\n",
    "    print(f\"The p-value is : {(st.pearsonr(x, y)[1])}\")\n",
    "    (slope, intercept, rvalue, pvalue, stderr) = st.linregress(x, y)\n",
    "    regress_values = x * slope + intercept\n",
    "    line_eq = \"y = \" + str(round(slope,2)) + \"x + \" + str(round(intercept,2))\n",
    "    plt.scatter(x, y)\n",
    "    plt.plot(x,regress_values,\"r-\")\n",
    "    return line_eq\n",
    "\n",
    "def annotate(line_eq, a, b):\n",
    "    plt.annotate(line_eq,(a,b),fontsize=15,color=\"red\")\n",
    "\n",
    "fig1, ax1 = plt.subplots()\n",
    "\n",
    "equation = linear_regression(combined_df['PERCENT MINORITY'], combined_df['Total Evictions'])\n",
    "annotate(equation, 0, -3)\n",
    " \n",
    "plt.xlabel('PERCENT MINORITY')\n",
    "plt.ylabel('Total Evictions')\n",
    "plt.title(\"Total Evictions vs. PERCENT MINORITY\")\n",
    "\n",
    "plt.show()"
   ]
  },
  {
   "cell_type": "code",
   "execution_count": 8,
   "metadata": {},
   "outputs": [
    {
     "name": "stdout",
     "output_type": "stream",
     "text": [
      "The r-value is : -0.04541731404874569\n",
      "The p-value is : 0.8116380190852883\n"
     ]
    },
    {
     "data": {
      "image/png": "[encoded data removed]",
      "text/plain": [
       "<Figure size 432x288 with 1 Axes>"
      ]
     },
     "metadata": {
      "needs_background": "light"
     },
     "output_type": "display_data"
    }
   ],
   "source": [
    "# Total Evictions vs. PECENT RECIEVES PUBLIC ASSISTANCE\n",
    "\n",
    "def linear_regression(x,y):\n",
    "    print(f\"The r-value is : {(st.pearsonr(x, y)[0])}\")\n",
    "    print(f\"The p-value is : {(st.pearsonr(x, y)[1])}\")\n",
    "    (slope, intercept, rvalue, pvalue, stderr) = st.linregress(x, y)\n",
    "    regress_values = x * slope + intercept\n",
    "    line_eq = \"y = \" + str(round(slope,2)) + \"x + \" + str(round(intercept,2))\n",
    "    plt.scatter(x, y)\n",
    "    plt.plot(x,regress_values,\"r-\")\n",
    "    return line_eq\n",
    "\n",
    "def annotate(line_eq, a, b):\n",
    "    plt.annotate(line_eq,(a,b),fontsize=15,color=\"red\")\n",
    "\n",
    "fig1, ax1 = plt.subplots()\n",
    "\n",
    "equation = linear_regression(combined_df['PERCENT RECEIVES PUBLIC ASSISTANCE'], combined_df['Total Evictions'])\n",
    "annotate(equation, 0, -3)\n",
    " \n",
    "plt.xlabel('PERCENT RECEIVES PUBLIC ASSISTANCE')\n",
    "plt.ylabel('Total Evictions')\n",
    "plt.title(\"Total Evictions vs. PERCENT RECEIVES PUBLIC ASSISTANCE\")\n",
    "\n",
    "plt.show()"
   ]
  },
  {
   "cell_type": "code",
   "execution_count": 9,
   "metadata": {},
   "outputs": [
    {
     "name": "stdout",
     "output_type": "stream",
     "text": [
      "The r-value is : 0.04541731404874571\n",
      "The p-value is : 0.8116380190852883\n"
     ]
    },
    {
     "data": {
      "text/plain": [
       "Text(0.5, 1.0, 'Total Evictions vs. PERCENT NRECEIVES PUBLIC ASSISTANCE')"
      ]
     },
     "execution_count": 9,
     "metadata": {},
     "output_type": "execute_result"
    },
    {
     "data": {
      "image/png": "[encoded data removed]",
      "text/plain": [
       "<Figure size 432x288 with 1 Axes>"
      ]
     },
     "metadata": {
      "needs_background": "light"
     },
     "output_type": "display_data"
    }
   ],
   "source": [
    "# Total Evictions vs. PERCENT NRECIEVES PUBLIC ASSISTANCE\n",
    "\n",
    "def linear_regression(x,y):\n",
    "    print(f\"The r-value is : {(st.pearsonr(x, y)[0])}\")\n",
    "    print(f\"The p-value is : {(st.pearsonr(x, y)[1])}\")\n",
    "    (slope, intercept, rvalue, pvalue, stderr) = st.linregress(x, y)\n",
    "    regress_values = x * slope + intercept\n",
    "    line_eq = \"y = \" + str(round(slope,2)) + \"x + \" + str(round(intercept,2))\n",
    "    plt.scatter(x, y)\n",
    "    plt.plot(x,regress_values,\"r-\")\n",
    "    return line_eq\n",
    "\n",
    "def annotate(line_eq, a, b):\n",
    "    plt.annotate(line_eq,(a,b),fontsize=15,color=\"red\")\n",
    "\n",
    "fig1, ax1 = plt.subplots()\n",
    "\n",
    "equation = linear_regression(combined_df['PERCENT NRECEIVES PUBLIC ASSISTANCE'], combined_df['Total Evictions'])\n",
    "annotate(equation, 0, -3)\n",
    " \n",
    "plt.xlabel('PERCENT NRECEIVES PUBLIC ASSISTANCE')\n",
    "plt.ylabel('Total Evictions')\n",
    "plt.title(\"Total Evictions vs. PERCENT NRECEIVES PUBLIC ASSISTANCE\")\n"
   ]
  }
 ],
 "metadata": {
  "kernelspec": {
   "display_name": "Python 3 (ipykernel)",
   "language": "python",
   "name": "python3"
  },
  "language_info": {
   "codemirror_mode": {
    "name": "ipython",
    "version": 3
   },
   "file_extension": ".py",
   "mimetype": "text/x-python",
   "name": "python",
   "nbconvert_exporter": "python",
   "pygments_lexer": "ipython3",
   "version": "3.8.8"
  }
 },
 "nbformat": 4,
 "nbformat_minor": 2
}
